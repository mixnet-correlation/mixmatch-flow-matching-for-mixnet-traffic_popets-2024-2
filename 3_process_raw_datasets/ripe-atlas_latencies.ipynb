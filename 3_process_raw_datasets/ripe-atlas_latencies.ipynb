{
 "cells": [
  {
   "cell_type": "code",
   "execution_count": 1,
   "id": "703f6268-12ca-4a52-b3eb-ba9744e30cc3",
   "metadata": {
    "tags": []
   },
   "outputs": [],
   "source": [
    "import numpy as np\n",
    "import pandas as pd\n",
    "import seaborn as sns\n",
    "import matplotlib.pyplot as plt\n",
    "import matplotlib.ticker as ticker\n",
    "\n",
    "from json import loads as json_loads"
   ]
  },
  {
   "cell_type": "code",
   "execution_count": 2,
   "id": "cee5766b-1ce0-4cde-baa1-556d2c501383",
   "metadata": {
    "tags": []
   },
   "outputs": [],
   "source": [
    "# RIPE ATLAS, Ping measurements, hourly datasets, January 20, 2023, 12:00.\n",
    "# Source (ca. 1.4GB): https://data-store.ripe.net/datasets/atlas-daily-dumps/2023-01-20/ping-2023-01-20T1200.bz2\n",
    "ripe_ping_file = \"/PRIVATE_PATH/ping-2023-01-20T1200\"\n",
    "\n",
    "# Dataset produced by this Notebook of only select and approximated latency values from above dataset.\n",
    "latencies_file = \"/PRIVATE_PATH/ripe-atlas_latencies_2023-01-20T1200\""
   ]
  },
  {
   "cell_type": "code",
   "execution_count": 3,
   "id": "afce9042-4508-4b1a-a43a-ae7f03f5808b",
   "metadata": {},
   "outputs": [
    {
     "name": "stdout",
     "output_type": "stream",
     "text": [
      "measurements_total=30,411,043\n",
      "measurements_selected=1,124,387\n",
      "len(probeid_used_cnt)=11,064 (number of contributing probes)\n"
     ]
    }
   ],
   "source": [
    "probeid_to_dstaddr = dict()\n",
    "probeid_to_from = dict()\n",
    "probeid_used_cnt = dict()\n",
    "\n",
    "measurements_total = 0\n",
    "measurements_selected = 0\n",
    "\n",
    "with open(ripe_ping_file, \"r\", encoding = \"utf-8\") as ripe_ping_fp:\n",
    "    \n",
    "    with open(latencies_file, \"w\", encoding = \"utf-8\") as latencies_fp:\n",
    "        \n",
    "        latencies_fp.write(f\"latency_ms\\n\")\n",
    "    \n",
    "        for ripe_ping_raw in ripe_ping_fp:\n",
    "\n",
    "            # Parse current line from RIPE ATLAS Ping dataset as JSON.\n",
    "            ripe_ping = json_loads(ripe_ping_raw)\n",
    "            measurements_total += 1\n",
    "\n",
    "            # Skip over lines that don't contain all keys we require.\n",
    "            if not ((\"fw\" in ripe_ping)\n",
    "                    and (\"af\" in ripe_ping)\n",
    "                    and (\"type\" in ripe_ping)\n",
    "                    and (\"msm_name\" in ripe_ping)\n",
    "                    and (\"proto\" in ripe_ping)\n",
    "                    and (\"lts\" in ripe_ping)\n",
    "                    and (\"prb_id\" in ripe_ping)\n",
    "                    and (\"from\" in ripe_ping)\n",
    "                    and (\"dst_addr\" in ripe_ping)\n",
    "                    and (\"dst_name\" in ripe_ping)\n",
    "                    and (\"sent\" in ripe_ping)\n",
    "                    and (\"rcvd\" in ripe_ping)\n",
    "                    and (\"min\" in ripe_ping)\n",
    "                    and (\"max\" in ripe_ping)\n",
    "                    and (\"avg\" in ripe_ping)\n",
    "                    and (\"result\" in ripe_ping)):\n",
    "                continue\n",
    "            \n",
    "            # 'src_addr' apparently can be a private-network IP address.\n",
    "            # Theoretically, anycast addresses can be used as source addresses.\n",
    "            # Thus, we rely on 'prb_id' (probe identifier) as the unique host criterion.\n",
    "            # The RTT measurements ('result'['rtt'], 'min', 'max', 'avg') are in milliseconds.\n",
    "            # Source: https://atlas.ripe.net/docs/apis/result-format/#version-5000-ping-v6-ping\n",
    "\n",
    "            if ((ripe_ping[\"fw\"] > 5000)\n",
    "                and (ripe_ping[\"af\"] == 4)\n",
    "                and (ripe_ping[\"type\"] == \"ping\")\n",
    "                and (ripe_ping[\"msm_name\"] == \"Ping\")\n",
    "                and (ripe_ping[\"proto\"] == \"ICMP\")\n",
    "                and (ripe_ping[\"lts\"] != -1)\n",
    "                and (ripe_ping[\"from\"] != \"\")\n",
    "                and (ripe_ping[\"from\"] != ripe_ping[\"dst_addr\"])\n",
    "                and (ripe_ping[\"from\"] != ripe_ping[\"dst_name\"])\n",
    "                and (ripe_ping[\"sent\"] >= 3)\n",
    "                and (ripe_ping[\"sent\"] == ripe_ping[\"rcvd\"])\n",
    "                and (ripe_ping[\"min\"] > 0.0)\n",
    "                and (ripe_ping[\"max\"] > 0.0)\n",
    "                and (ripe_ping[\"avg\"] > 0.0)\n",
    "                and (all(\"rtt\" in measurement for measurement in ripe_ping[\"result\"]))):\n",
    "                \n",
    "                probeid = ripe_ping[\"prb_id\"]\n",
    "                fromaddr = ripe_ping[\"from\"]\n",
    "                dstaddr = ripe_ping[\"dst_addr\"]\n",
    "                \n",
    "                # Build key that identifies this logical link: 'probe_identifier=>destination_address'.\n",
    "                # This means that we allow measurements from the two sides of the same logical connection\n",
    "                # to be present in the dataset even though we already included the other direction.\n",
    "                key_probe = f\"{probeid}=>{dstaddr}\"\n",
    "                \n",
    "                # Make sure we haven't seen this logical link before.\n",
    "                if key_probe not in probeid_to_dstaddr:\n",
    "                    \n",
    "                    # Skip over measurements for which we have seen a different 'from'\n",
    "                    # IP address in an already considered prior measurement.\n",
    "                    if ((probeid in probeid_to_from)\n",
    "                        and (fromaddr != probeid_to_from[probeid])):\n",
    "                        continue\n",
    "                    \n",
    "                    # Only consider the first 3 RTT measurements.\n",
    "                    for measurement in ripe_ping[\"result\"][:3]:\n",
    "                    \n",
    "                        # Simplifying assumption: RTT / 2.0 is a sufficient approximation for latency.\n",
    "                        latency = measurement[\"rtt\"] / 2.0\n",
    "\n",
    "                        # Write latency approximated from RTT measurement to the end of the file.\n",
    "                        latencies_fp.write(f\"{latency:f}\\n\")\n",
    "                    \n",
    "                    # Increment counter of how many measurements from the original dataset we use.\n",
    "                    measurements_selected += 1\n",
    "                    \n",
    "                    # Note down that we considered a ping from this probe to this destination.\n",
    "                    probeid_to_dstaddr[key_probe] = True\n",
    "                    probeid_to_from[probeid] = fromaddr\n",
    "                    \n",
    "                    # Keep count of how often we have included a measurement from this probe.\n",
    "                    if probeid not in probeid_used_cnt:\n",
    "                        probeid_used_cnt[probeid] = 0\n",
    "                    probeid_used_cnt[probeid] += 1\n",
    "\n",
    "print(f\"{measurements_total=:,}\")\n",
    "print(f\"{measurements_selected=:,}\")\n",
    "print(f\"{len(probeid_used_cnt)=:,} (number of contributing probes)\")"
   ]
  },
  {
   "cell_type": "code",
   "execution_count": 4,
   "id": "d2bb6ed4-ff0a-4712-893f-d1a092fc33d8",
   "metadata": {},
   "outputs": [],
   "source": [
    "# Create new DataFrame from the Python dictionary of probe_id => included_measurements_count.\n",
    "df_probeid = pd.DataFrame.from_dict(data = probeid_used_cnt, orient = \"index\", columns = [\"cnt\"])\n",
    "\n",
    "# Sort them in-place in descending order, mostly for us to be able to see their range via head() and tail().\n",
    "df_probeid.sort_values(by = [\"cnt\"], ascending = False, inplace = True)"
   ]
  },
  {
   "cell_type": "code",
   "execution_count": 5,
   "id": "9331fbfe-4769-4cd2-b53a-1bdc56967742",
   "metadata": {},
   "outputs": [
    {
     "data": {
      "text/html": [
       "<div>\n",
       "<style scoped>\n",
       "    .dataframe tbody tr th:only-of-type {\n",
       "        vertical-align: middle;\n",
       "    }\n",
       "\n",
       "    .dataframe tbody tr th {\n",
       "        vertical-align: top;\n",
       "    }\n",
       "\n",
       "    .dataframe thead th {\n",
       "        text-align: right;\n",
       "    }\n",
       "</style>\n",
       "<table border=\"1\" class=\"dataframe\">\n",
       "  <thead>\n",
       "    <tr style=\"text-align: right;\">\n",
       "      <th></th>\n",
       "      <th>cnt</th>\n",
       "    </tr>\n",
       "  </thead>\n",
       "  <tbody>\n",
       "    <tr>\n",
       "      <th>6993</th>\n",
       "      <td>1152</td>\n",
       "    </tr>\n",
       "    <tr>\n",
       "      <th>6779</th>\n",
       "      <td>1142</td>\n",
       "    </tr>\n",
       "    <tr>\n",
       "      <th>6471</th>\n",
       "      <td>855</td>\n",
       "    </tr>\n",
       "    <tr>\n",
       "      <th>6090</th>\n",
       "      <td>852</td>\n",
       "    </tr>\n",
       "    <tr>\n",
       "      <th>6616</th>\n",
       "      <td>850</td>\n",
       "    </tr>\n",
       "    <tr>\n",
       "      <th>6431</th>\n",
       "      <td>849</td>\n",
       "    </tr>\n",
       "    <tr>\n",
       "      <th>6843</th>\n",
       "      <td>848</td>\n",
       "    </tr>\n",
       "    <tr>\n",
       "      <th>6695</th>\n",
       "      <td>848</td>\n",
       "    </tr>\n",
       "    <tr>\n",
       "      <th>6382</th>\n",
       "      <td>847</td>\n",
       "    </tr>\n",
       "    <tr>\n",
       "      <th>6232</th>\n",
       "      <td>844</td>\n",
       "    </tr>\n",
       "  </tbody>\n",
       "</table>\n",
       "</div>"
      ],
      "text/plain": [
       "       cnt\n",
       "6993  1152\n",
       "6779  1142\n",
       "6471   855\n",
       "6090   852\n",
       "6616   850\n",
       "6431   849\n",
       "6843   848\n",
       "6695   848\n",
       "6382   847\n",
       "6232   844"
      ]
     },
     "execution_count": 5,
     "metadata": {},
     "output_type": "execute_result"
    }
   ],
   "source": [
    "df_probeid.head(10)"
   ]
  },
  {
   "cell_type": "code",
   "execution_count": 6,
   "id": "b627387d-57f9-4de7-a00b-895fd4f7160e",
   "metadata": {
    "tags": []
   },
   "outputs": [
    {
     "data": {
      "text/html": [
       "<div>\n",
       "<style scoped>\n",
       "    .dataframe tbody tr th:only-of-type {\n",
       "        vertical-align: middle;\n",
       "    }\n",
       "\n",
       "    .dataframe tbody tr th {\n",
       "        vertical-align: top;\n",
       "    }\n",
       "\n",
       "    .dataframe thead th {\n",
       "        text-align: right;\n",
       "    }\n",
       "</style>\n",
       "<table border=\"1\" class=\"dataframe\">\n",
       "  <thead>\n",
       "    <tr style=\"text-align: right;\">\n",
       "      <th></th>\n",
       "      <th>cnt</th>\n",
       "    </tr>\n",
       "  </thead>\n",
       "  <tbody>\n",
       "    <tr>\n",
       "      <th>61183</th>\n",
       "      <td>1</td>\n",
       "    </tr>\n",
       "    <tr>\n",
       "      <th>30637</th>\n",
       "      <td>1</td>\n",
       "    </tr>\n",
       "    <tr>\n",
       "      <th>23451</th>\n",
       "      <td>1</td>\n",
       "    </tr>\n",
       "    <tr>\n",
       "      <th>1002933</th>\n",
       "      <td>1</td>\n",
       "    </tr>\n",
       "    <tr>\n",
       "      <th>1002931</th>\n",
       "      <td>1</td>\n",
       "    </tr>\n",
       "    <tr>\n",
       "      <th>1002407</th>\n",
       "      <td>1</td>\n",
       "    </tr>\n",
       "    <tr>\n",
       "      <th>1002540</th>\n",
       "      <td>1</td>\n",
       "    </tr>\n",
       "    <tr>\n",
       "      <th>1002543</th>\n",
       "      <td>1</td>\n",
       "    </tr>\n",
       "    <tr>\n",
       "      <th>1002988</th>\n",
       "      <td>1</td>\n",
       "    </tr>\n",
       "    <tr>\n",
       "      <th>1002917</th>\n",
       "      <td>1</td>\n",
       "    </tr>\n",
       "  </tbody>\n",
       "</table>\n",
       "</div>"
      ],
      "text/plain": [
       "         cnt\n",
       "61183      1\n",
       "30637      1\n",
       "23451      1\n",
       "1002933    1\n",
       "1002931    1\n",
       "1002407    1\n",
       "1002540    1\n",
       "1002543    1\n",
       "1002988    1\n",
       "1002917    1"
      ]
     },
     "execution_count": 6,
     "metadata": {},
     "output_type": "execute_result"
    }
   ],
   "source": [
    "df_probeid.tail(10)"
   ]
  },
  {
   "cell_type": "code",
   "execution_count": 7,
   "id": "ed8ab516-af4b-4fd9-a392-4e09bf6f0cfb",
   "metadata": {},
   "outputs": [
    {
     "data": {
      "text/html": [
       "<div>\n",
       "<style scoped>\n",
       "    .dataframe tbody tr th:only-of-type {\n",
       "        vertical-align: middle;\n",
       "    }\n",
       "\n",
       "    .dataframe tbody tr th {\n",
       "        vertical-align: top;\n",
       "    }\n",
       "\n",
       "    .dataframe thead th {\n",
       "        text-align: right;\n",
       "    }\n",
       "</style>\n",
       "<table border=\"1\" class=\"dataframe\">\n",
       "  <thead>\n",
       "    <tr style=\"text-align: right;\">\n",
       "      <th></th>\n",
       "      <th>cnt</th>\n",
       "    </tr>\n",
       "  </thead>\n",
       "  <tbody>\n",
       "    <tr>\n",
       "      <th>count</th>\n",
       "      <td>11064.000000</td>\n",
       "    </tr>\n",
       "    <tr>\n",
       "      <th>mean</th>\n",
       "      <td>101.625723</td>\n",
       "    </tr>\n",
       "    <tr>\n",
       "      <th>std</th>\n",
       "      <td>199.398200</td>\n",
       "    </tr>\n",
       "    <tr>\n",
       "      <th>min</th>\n",
       "      <td>1.000000</td>\n",
       "    </tr>\n",
       "    <tr>\n",
       "      <th>25%</th>\n",
       "      <td>34.000000</td>\n",
       "    </tr>\n",
       "    <tr>\n",
       "      <th>50%</th>\n",
       "      <td>42.000000</td>\n",
       "    </tr>\n",
       "    <tr>\n",
       "      <th>75%</th>\n",
       "      <td>64.000000</td>\n",
       "    </tr>\n",
       "    <tr>\n",
       "      <th>max</th>\n",
       "      <td>1152.000000</td>\n",
       "    </tr>\n",
       "  </tbody>\n",
       "</table>\n",
       "</div>"
      ],
      "text/plain": [
       "                cnt\n",
       "count  11064.000000\n",
       "mean     101.625723\n",
       "std      199.398200\n",
       "min        1.000000\n",
       "25%       34.000000\n",
       "50%       42.000000\n",
       "75%       64.000000\n",
       "max     1152.000000"
      ]
     },
     "execution_count": 7,
     "metadata": {},
     "output_type": "execute_result"
    }
   ],
   "source": [
    "df_probeid.describe()"
   ]
  },
  {
   "cell_type": "code",
   "execution_count": 8,
   "id": "de9e0e24-db9d-4766-bc89-d3dbe105ad48",
   "metadata": {},
   "outputs": [
    {
     "data": {
      "image/png": "[encoded data removed]",
      "text/plain": [
       "<Figure size 2000x800 with 1 Axes>"
      ]
     },
     "metadata": {},
     "output_type": "display_data"
    }
   ],
   "source": [
    "fig, ax = plt.subplots(figsize=(20, 8))\n",
    "\n",
    "# Set basic figure style.\n",
    "sns.set()\n",
    "sns.set(style=\"whitegrid\", font_scale=1.5)\n",
    "sns.set_style({\"font.family\": \"Fira Sans Condensed\"})\n",
    "\n",
    "# Plot histogram of number of included measurements across all probes with a bin width of 10.\n",
    "plot_hist = sns.histplot(data = df_probeid, x = \"cnt\", binwidth = 10)\n",
    "\n",
    "# Bottom left of plot starts at (0, 0).\n",
    "plot_hist.set_xlim(left = 0)\n",
    "plot_hist.set_ylim(bottom = 0)\n",
    "plot_hist.set_xticks(np.arange(start = 0, stop = (df_probeid.max()[\"cnt\"] + 50), step = 50))\n",
    "\n",
    "# Format labels with thousands indicator.\n",
    "ax.xaxis.set_major_formatter(ticker.FuncFormatter(lambda obs, pos: f\"{round(obs):,}\"))\n",
    "ax.yaxis.set_major_formatter(ticker.FuncFormatter(lambda count, pos: f\"{round(count):,}\"))\n",
    "\n",
    "# Label axes usefully.\n",
    "plt.xlabel(\"Number of selected measurements across probes\")\n",
    "plt.ylabel(\"Occurrence\")\n",
    "\n",
    "plt.show()"
   ]
  },
  {
   "cell_type": "code",
   "execution_count": 3,
   "id": "3fa3e1be-1584-4125-a80a-cb2feae6ac37",
   "metadata": {
    "tags": []
   },
   "outputs": [],
   "source": [
    "# Read in above-created file containing only the first three latency approximation\n",
    "# values from each measurement in the RIPE ATLAS Ping hourly dataset.\n",
    "df_lat_all = pd.read_table(latencies_file, header = 0)\n",
    "\n",
    "# Sort them in-place, mostly for us to be able to see their range via head() and tail().\n",
    "df_lat_all.sort_values(by = [\"latency_ms\"], inplace = True)"
   ]
  },
  {
   "cell_type": "code",
   "execution_count": 4,
   "id": "7ccdd5b9-c3f5-4437-b322-64292af2c0be",
   "metadata": {
    "tags": []
   },
   "outputs": [
    {
     "data": {
      "text/html": [
       "<div>\n",
       "<style scoped>\n",
       "    .dataframe tbody tr th:only-of-type {\n",
       "        vertical-align: middle;\n",
       "    }\n",
       "\n",
       "    .dataframe tbody tr th {\n",
       "        vertical-align: top;\n",
       "    }\n",
       "\n",
       "    .dataframe thead th {\n",
       "        text-align: right;\n",
       "    }\n",
       "</style>\n",
       "<table border=\"1\" class=\"dataframe\">\n",
       "  <thead>\n",
       "    <tr style=\"text-align: right;\">\n",
       "      <th></th>\n",
       "      <th>latency_ms</th>\n",
       "    </tr>\n",
       "  </thead>\n",
       "  <tbody>\n",
       "    <tr>\n",
       "      <th>count</th>\n",
       "      <td>33732.000000</td>\n",
       "    </tr>\n",
       "    <tr>\n",
       "      <th>mean</th>\n",
       "      <td>198.923830</td>\n",
       "    </tr>\n",
       "    <tr>\n",
       "      <th>std</th>\n",
       "      <td>69.911372</td>\n",
       "    </tr>\n",
       "    <tr>\n",
       "      <th>min</th>\n",
       "      <td>172.854780</td>\n",
       "    </tr>\n",
       "    <tr>\n",
       "      <th>25%</th>\n",
       "      <td>178.583963</td>\n",
       "    </tr>\n",
       "    <tr>\n",
       "      <th>50%</th>\n",
       "      <td>186.759316</td>\n",
       "    </tr>\n",
       "    <tr>\n",
       "      <th>75%</th>\n",
       "      <td>200.215268</td>\n",
       "    </tr>\n",
       "    <tr>\n",
       "      <th>max</th>\n",
       "      <td>4601.289543</td>\n",
       "    </tr>\n",
       "  </tbody>\n",
       "</table>\n",
       "</div>"
      ],
      "text/plain": [
       "         latency_ms\n",
       "count  33732.000000\n",
       "mean     198.923830\n",
       "std       69.911372\n",
       "min      172.854780\n",
       "25%      178.583963\n",
       "50%      186.759316\n",
       "75%      200.215268\n",
       "max     4601.289543"
      ]
     },
     "execution_count": 4,
     "metadata": {},
     "output_type": "execute_result"
    }
   ],
   "source": [
    "# We see some very high latencies in interval [P99, P100] of this dataset, e.g.,\n",
    "# latencies beyond 4,000 ms. These are likely outliers and not representative of\n",
    "# well-connected server-to-server networks.\n",
    "df_lat_all[df_lat_all[\"latency_ms\"] > df_lat_all[\"latency_ms\"].quantile(0.99)].describe()"
   ]
  },
  {
   "cell_type": "code",
   "execution_count": 5,
   "id": "40d2bfab-54f4-4472-849d-3bda2c4f5832",
   "metadata": {
    "tags": []
   },
   "outputs": [],
   "source": [
    "# Thus, we exclude the long tail of this dataset from further consideration\n",
    "# by focusing only on P99 of the dataset.\n",
    "df_lat = df_lat_all[df_lat_all[\"latency_ms\"] <= df_lat_all[\"latency_ms\"].quantile(0.99)]"
   ]
  },
  {
   "cell_type": "code",
   "execution_count": 6,
   "id": "d1758e99-70d0-4b92-acb1-16e1cb605d8a",
   "metadata": {
    "tags": []
   },
   "outputs": [
    {
     "data": {
      "text/html": [
       "<div>\n",
       "<style scoped>\n",
       "    .dataframe tbody tr th:only-of-type {\n",
       "        vertical-align: middle;\n",
       "    }\n",
       "\n",
       "    .dataframe tbody tr th {\n",
       "        vertical-align: top;\n",
       "    }\n",
       "\n",
       "    .dataframe thead th {\n",
       "        text-align: right;\n",
       "    }\n",
       "</style>\n",
       "<table border=\"1\" class=\"dataframe\">\n",
       "  <thead>\n",
       "    <tr style=\"text-align: right;\">\n",
       "      <th></th>\n",
       "      <th>latency_ms</th>\n",
       "    </tr>\n",
       "  </thead>\n",
       "  <tbody>\n",
       "    <tr>\n",
       "      <th>165747</th>\n",
       "      <td>0.019768</td>\n",
       "    </tr>\n",
       "    <tr>\n",
       "      <th>3163989</th>\n",
       "      <td>0.020084</td>\n",
       "    </tr>\n",
       "    <tr>\n",
       "      <th>1892282</th>\n",
       "      <td>0.023200</td>\n",
       "    </tr>\n",
       "    <tr>\n",
       "      <th>1892281</th>\n",
       "      <td>0.026995</td>\n",
       "    </tr>\n",
       "    <tr>\n",
       "      <th>1349929</th>\n",
       "      <td>0.029747</td>\n",
       "    </tr>\n",
       "    <tr>\n",
       "      <th>1349928</th>\n",
       "      <td>0.032169</td>\n",
       "    </tr>\n",
       "    <tr>\n",
       "      <th>165748</th>\n",
       "      <td>0.034041</td>\n",
       "    </tr>\n",
       "    <tr>\n",
       "      <th>165749</th>\n",
       "      <td>0.040785</td>\n",
       "    </tr>\n",
       "    <tr>\n",
       "      <th>1892280</th>\n",
       "      <td>0.045665</td>\n",
       "    </tr>\n",
       "    <tr>\n",
       "      <th>3163990</th>\n",
       "      <td>0.050701</td>\n",
       "    </tr>\n",
       "  </tbody>\n",
       "</table>\n",
       "</div>"
      ],
      "text/plain": [
       "         latency_ms\n",
       "165747     0.019768\n",
       "3163989    0.020084\n",
       "1892282    0.023200\n",
       "1892281    0.026995\n",
       "1349929    0.029747\n",
       "1349928    0.032169\n",
       "165748     0.034041\n",
       "165749     0.040785\n",
       "1892280    0.045665\n",
       "3163990    0.050701"
      ]
     },
     "execution_count": 6,
     "metadata": {},
     "output_type": "execute_result"
    }
   ],
   "source": [
    "df_lat.head(10)"
   ]
  },
  {
   "cell_type": "code",
   "execution_count": 7,
   "id": "6d331061-0093-45bf-9e6d-490b34175dce",
   "metadata": {
    "tags": []
   },
   "outputs": [
    {
     "data": {
      "text/html": [
       "<div>\n",
       "<style scoped>\n",
       "    .dataframe tbody tr th:only-of-type {\n",
       "        vertical-align: middle;\n",
       "    }\n",
       "\n",
       "    .dataframe tbody tr th {\n",
       "        vertical-align: top;\n",
       "    }\n",
       "\n",
       "    .dataframe thead th {\n",
       "        text-align: right;\n",
       "    }\n",
       "</style>\n",
       "<table border=\"1\" class=\"dataframe\">\n",
       "  <thead>\n",
       "    <tr style=\"text-align: right;\">\n",
       "      <th></th>\n",
       "      <th>latency_ms</th>\n",
       "    </tr>\n",
       "  </thead>\n",
       "  <tbody>\n",
       "    <tr>\n",
       "      <th>3077512</th>\n",
       "      <td>172.848832</td>\n",
       "    </tr>\n",
       "    <tr>\n",
       "      <th>1877998</th>\n",
       "      <td>172.849106</td>\n",
       "    </tr>\n",
       "    <tr>\n",
       "      <th>2720550</th>\n",
       "      <td>172.849122</td>\n",
       "    </tr>\n",
       "    <tr>\n",
       "      <th>3163174</th>\n",
       "      <td>172.849197</td>\n",
       "    </tr>\n",
       "    <tr>\n",
       "      <th>1324103</th>\n",
       "      <td>172.849693</td>\n",
       "    </tr>\n",
       "    <tr>\n",
       "      <th>2185463</th>\n",
       "      <td>172.850605</td>\n",
       "    </tr>\n",
       "    <tr>\n",
       "      <th>533710</th>\n",
       "      <td>172.851471</td>\n",
       "    </tr>\n",
       "    <tr>\n",
       "      <th>1141637</th>\n",
       "      <td>172.851813</td>\n",
       "    </tr>\n",
       "    <tr>\n",
       "      <th>808459</th>\n",
       "      <td>172.851967</td>\n",
       "    </tr>\n",
       "    <tr>\n",
       "      <th>2405441</th>\n",
       "      <td>172.854694</td>\n",
       "    </tr>\n",
       "  </tbody>\n",
       "</table>\n",
       "</div>"
      ],
      "text/plain": [
       "         latency_ms\n",
       "3077512  172.848832\n",
       "1877998  172.849106\n",
       "2720550  172.849122\n",
       "3163174  172.849197\n",
       "1324103  172.849693\n",
       "2185463  172.850605\n",
       "533710   172.851471\n",
       "1141637  172.851813\n",
       "808459   172.851967\n",
       "2405441  172.854694"
      ]
     },
     "execution_count": 7,
     "metadata": {},
     "output_type": "execute_result"
    }
   ],
   "source": [
    "df_lat.tail(10)"
   ]
  },
  {
   "cell_type": "code",
   "execution_count": 8,
   "id": "0c3ccb29-c050-478d-9514-5d37ef786ad3",
   "metadata": {
    "tags": []
   },
   "outputs": [
    {
     "name": "stdout",
     "output_type": "stream",
     "text": [
      "<class 'pandas.core.frame.DataFrame'>\n",
      "Int64Index: 3339429 entries, 165747 to 2405441\n",
      "Data columns (total 1 columns):\n",
      " #   Column      Dtype  \n",
      "---  ------      -----  \n",
      " 0   latency_ms  float64\n",
      "dtypes: float64(1)\n",
      "memory usage: 51.0 MB\n"
     ]
    }
   ],
   "source": [
    "df_lat.info()"
   ]
  },
  {
   "cell_type": "code",
   "execution_count": 9,
   "id": "6be5a252-21e7-4c31-a523-c59ee0d7910b",
   "metadata": {
    "tags": []
   },
   "outputs": [
    {
     "data": {
      "text/html": [
       "<div>\n",
       "<style scoped>\n",
       "    .dataframe tbody tr th:only-of-type {\n",
       "        vertical-align: middle;\n",
       "    }\n",
       "\n",
       "    .dataframe tbody tr th {\n",
       "        vertical-align: top;\n",
       "    }\n",
       "\n",
       "    .dataframe thead th {\n",
       "        text-align: right;\n",
       "    }\n",
       "</style>\n",
       "<table border=\"1\" class=\"dataframe\">\n",
       "  <thead>\n",
       "    <tr style=\"text-align: right;\">\n",
       "      <th></th>\n",
       "      <th>latency_ms</th>\n",
       "    </tr>\n",
       "  </thead>\n",
       "  <tbody>\n",
       "    <tr>\n",
       "      <th>count</th>\n",
       "      <td>3.339429e+06</td>\n",
       "    </tr>\n",
       "    <tr>\n",
       "      <th>mean</th>\n",
       "      <td>5.110260e+01</td>\n",
       "    </tr>\n",
       "    <tr>\n",
       "      <th>std</th>\n",
       "      <td>4.349044e+01</td>\n",
       "    </tr>\n",
       "    <tr>\n",
       "      <th>min</th>\n",
       "      <td>1.976800e-02</td>\n",
       "    </tr>\n",
       "    <tr>\n",
       "      <th>25%</th>\n",
       "      <td>1.245445e+01</td>\n",
       "    </tr>\n",
       "    <tr>\n",
       "      <th>50%</th>\n",
       "      <td>4.056188e+01</td>\n",
       "    </tr>\n",
       "    <tr>\n",
       "      <th>75%</th>\n",
       "      <td>8.245994e+01</td>\n",
       "    </tr>\n",
       "    <tr>\n",
       "      <th>max</th>\n",
       "      <td>1.728547e+02</td>\n",
       "    </tr>\n",
       "  </tbody>\n",
       "</table>\n",
       "</div>"
      ],
      "text/plain": [
       "         latency_ms\n",
       "count  3.339429e+06\n",
       "mean   5.110260e+01\n",
       "std    4.349044e+01\n",
       "min    1.976800e-02\n",
       "25%    1.245445e+01\n",
       "50%    4.056188e+01\n",
       "75%    8.245994e+01\n",
       "max    1.728547e+02"
      ]
     },
     "execution_count": 9,
     "metadata": {},
     "output_type": "execute_result"
    }
   ],
   "source": [
    "df_lat.describe()"
   ]
  },
  {
   "cell_type": "code",
   "execution_count": 10,
   "id": "7ca6f560-aef9-4d3f-b950-167c2d694ecf",
   "metadata": {
    "tags": []
   },
   "outputs": [
    {
     "data": {
      "text/plain": [
       "latency_ms    51.102603\n",
       "dtype: float64"
      ]
     },
     "execution_count": 10,
     "metadata": {},
     "output_type": "execute_result"
    }
   ],
   "source": [
    "df_lat.mean()"
   ]
  },
  {
   "cell_type": "code",
   "execution_count": 11,
   "id": "de7c29eb-c130-4e0f-bd45-4b43f433a28e",
   "metadata": {
    "tags": []
   },
   "outputs": [
    {
     "name": "stdout",
     "output_type": "stream",
     "text": [
      "PDFCROP 1.40, 2020/06/06 - Copyright (c) 2002-2020 by Heiko Oberdiek, Oberdiek Package Support Group.\n",
      "==> 1 page written on `ripe-atlas_latencies_histogram_2023-01-20T1200-crop.pdf'.\n"
     ]
    },
    {
     "data": {
      "image/png": "[encoded data removed]",
      "text/plain": [
       "<Figure size 1200x800 with 1 Axes>"
      ]
     },
     "metadata": {},
     "output_type": "display_data"
    }
   ],
   "source": [
    "fig, ax = plt.subplots(figsize=(12, 8))\n",
    "\n",
    "# Set basic figure style.\n",
    "sns.set()\n",
    "sns.set(style=\"whitegrid\", font_scale=1.5)\n",
    "sns.set_style({\"font.family\": \"Fira Sans Condensed\"})\n",
    "\n",
    "# Plot histogram of latency approximations with a bin width of 1ms.\n",
    "plot_hist = sns.histplot(data = df_lat, x = \"latency_ms\", binwidth = 1)\n",
    "\n",
    "# Bottom left of plot starts at (0, 0).\n",
    "plot_hist.set_xlim(left = 0)\n",
    "plot_hist.set_ylim(bottom = 0)\n",
    "\n",
    "# Format y-axis labels with thousands indicator.\n",
    "ax.yaxis.set_major_formatter(ticker.FuncFormatter(lambda count, pos: f\"{round(count):,}\"))\n",
    "\n",
    "# Label axes usefully.\n",
    "plt.xlabel(\"Latency approximation (1/2 * RTT, ms)\")\n",
    "plt.ylabel(\"Count\")\n",
    "\n",
    "# Save and postprocess figure.\n",
    "plt.savefig(\"ripe-atlas_latencies_histogram_2023-01-20T1200.pdf\", bbox_inches=\"tight\")\n",
    "! pdfcrop --margin 0 ripe-atlas_latencies_histogram_2023-01-20T1200.pdf\n",
    "! mv ripe-atlas_latencies_histogram_2023-01-20T1200-crop.pdf ripe-atlas_latencies_histogram_2023-01-20T1200.pdf"
   ]
  },
  {
   "cell_type": "code",
   "execution_count": 12,
   "id": "6885bba5-b1f6-49b2-a7c8-fc1c69bd5093",
   "metadata": {
    "tags": []
   },
   "outputs": [],
   "source": [
    "# Convert Pandas DataSeries to NumPy array.\n",
    "lat_data = df_lat.to_numpy(copy = True)"
   ]
  },
  {
   "cell_type": "code",
   "execution_count": 13,
   "id": "04ea9ca0-f30a-4c9e-a589-b4c99e560f27",
   "metadata": {
    "tags": []
   },
   "outputs": [
    {
     "name": "stdout",
     "output_type": "stream",
     "text": [
      "lat_data=array([[1.97680000e-02],\n",
      "       [2.00840000e-02],\n",
      "       [2.32000000e-02],\n",
      "       ...,\n",
      "       [1.72851813e+02],\n",
      "       [1.72851967e+02],\n",
      "       [1.72854694e+02]])\n",
      "\n",
      "len(lat_data)=3,339,429\n",
      "\n",
      "lat_data.mean()=51.102603395457166\n"
     ]
    }
   ],
   "source": [
    "print(f\"{lat_data=}\\n\")\n",
    "print(f\"{len(lat_data)=:,}\\n\")\n",
    "print(f\"{lat_data.mean()=}\")"
   ]
  },
  {
   "cell_type": "code",
   "execution_count": 14,
   "id": "701c963b-33f8-4b66-bfda-b6b314dc08c5",
   "metadata": {
    "tags": []
   },
   "outputs": [],
   "source": [
    "# Given that we'll be using the output of this Notebook in the context\n",
    "# of latencies in seconds, convert all latencies correspondingly.\n",
    "lat_data_seconds = lat_data / 1000.0"
   ]
  },
  {
   "cell_type": "code",
   "execution_count": 15,
   "id": "1a6af7e8-c654-43f8-80e8-6f66a55b84ff",
   "metadata": {
    "tags": []
   },
   "outputs": [
    {
     "name": "stdout",
     "output_type": "stream",
     "text": [
      "lat_data_seconds=array([[1.97680000e-05],\n",
      "       [2.00840000e-05],\n",
      "       [2.32000000e-05],\n",
      "       ...,\n",
      "       [1.72851813e-01],\n",
      "       [1.72851967e-01],\n",
      "       [1.72854694e-01]])\n",
      "\n",
      "len(lat_data_seconds)=3,339,429\n",
      "\n",
      "lat_data_seconds.mean()=0.05110260339545711\n"
     ]
    }
   ],
   "source": [
    "print(f\"{lat_data_seconds=}\\n\")\n",
    "print(f\"{len(lat_data_seconds)=:,}\\n\")\n",
    "print(f\"{lat_data_seconds.mean()=}\")"
   ]
  },
  {
   "cell_type": "code",
   "execution_count": 16,
   "id": "6cf5e7e5-791c-4d69-83b9-de6063e03ad0",
   "metadata": {
    "tags": []
   },
   "outputs": [],
   "source": [
    "# Calculate NumPy histogram of latency values over 100 bins.\n",
    "lat_weights, lat_bin_edges = np.histogram(lat_data_seconds, bins = 100, density = True)"
   ]
  },
  {
   "cell_type": "code",
   "execution_count": 17,
   "id": "51297935-b2b9-40ff-af96-dc7f5ad0e95f",
   "metadata": {
    "tags": []
   },
   "outputs": [
    {
     "name": "stdout",
     "output_type": "stream",
     "text": [
      "lat_weights=array([15.24836798, 14.59171565, 20.16425096, 23.43451815, 23.92536143,\n",
      "       22.45854914, 20.99953351, 18.94762493, 17.02756659, 15.15688713,\n",
      "       13.8091039 , 12.60980379, 11.01512621,  9.78931745,  7.9584876 ,\n",
      "        6.58384919,  5.7007471 ,  4.9323426 ,  4.34048921,  4.17641276,\n",
      "        4.27257161,  4.54008379,  5.14423859,  5.36462427,  5.68983177,\n",
      "        6.20181268,  6.75000475,  7.0053888 ,  6.81047221,  6.71206099,\n",
      "        6.51991655,  6.20908956,  5.78425803,  5.70126688,  5.4697926 ,\n",
      "        5.32026992,  5.07891987,  4.74089119,  4.99956716,  5.06488588,\n",
      "        5.41348337,  5.79742573,  6.16525499,  6.3154707 ,  6.35272143,\n",
      "        6.58021075,  6.63201524,  6.33002448,  5.97848158,  5.89081243,\n",
      "        5.60043003,  5.26534676,  4.94828244,  4.62775294,  4.4563996 ,\n",
      "        4.24935487,  4.0603291 ,  3.85345763,  3.71381072,  3.56636715,\n",
      "        3.46795593,  3.30561207,  3.18571671,  3.1874493 ,  3.14101584,\n",
      "        3.18086545,  3.15470332,  3.2298978 ,  3.29590956,  3.49931584,\n",
      "        3.483376  ,  3.60101899,  3.56671367,  3.38323219,  3.26836134,\n",
      "        3.05837121,  2.80021502,  2.79588354,  2.61569398,  2.39288266,\n",
      "        2.23694939,  2.10943063,  1.94223551,  1.69152946,  1.61390935,\n",
      "        1.48950925,  1.38590025,  1.20692351,  1.11197748,  1.08529556,\n",
      "        1.00161137,  0.86785528,  0.81379841,  0.79439338,  0.70083342,\n",
      "        0.6881855 ,  0.63482167,  0.54576645,  0.52618816,  0.4780221 ])\n",
      "\n",
      "len(lat_weights)=100\n"
     ]
    }
   ],
   "source": [
    "print(f\"{lat_weights=}\\n\")\n",
    "print(f\"{len(lat_weights)=}\")"
   ]
  },
  {
   "cell_type": "code",
   "execution_count": 18,
   "id": "a199783e-d9d2-4135-9a07-c64d5e918936",
   "metadata": {
    "tags": []
   },
   "outputs": [
    {
     "name": "stdout",
     "output_type": "stream",
     "text": [
      "lat_bin_edges=array([1.97680000e-05, 1.74811726e-03, 3.47646652e-03, 5.20481578e-03,\n",
      "       6.93316504e-03, 8.66151430e-03, 1.03898636e-02, 1.21182128e-02,\n",
      "       1.38465621e-02, 1.55749113e-02, 1.73032606e-02, 1.90316099e-02,\n",
      "       2.07599591e-02, 2.24883084e-02, 2.42166576e-02, 2.59450069e-02,\n",
      "       2.76733562e-02, 2.94017054e-02, 3.11300547e-02, 3.28584039e-02,\n",
      "       3.45867532e-02, 3.63151025e-02, 3.80434517e-02, 3.97718010e-02,\n",
      "       4.15001502e-02, 4.32284995e-02, 4.49568488e-02, 4.66851980e-02,\n",
      "       4.84135473e-02, 5.01418965e-02, 5.18702458e-02, 5.35985951e-02,\n",
      "       5.53269443e-02, 5.70552936e-02, 5.87836428e-02, 6.05119921e-02,\n",
      "       6.22403414e-02, 6.39686906e-02, 6.56970399e-02, 6.74253891e-02,\n",
      "       6.91537384e-02, 7.08820877e-02, 7.26104369e-02, 7.43387862e-02,\n",
      "       7.60671354e-02, 7.77954847e-02, 7.95238340e-02, 8.12521832e-02,\n",
      "       8.29805325e-02, 8.47088817e-02, 8.64372310e-02, 8.81655803e-02,\n",
      "       8.98939295e-02, 9.16222788e-02, 9.33506280e-02, 9.50789773e-02,\n",
      "       9.68073266e-02, 9.85356758e-02, 1.00264025e-01, 1.01992374e-01,\n",
      "       1.03720724e-01, 1.05449073e-01, 1.07177422e-01, 1.08905771e-01,\n",
      "       1.10634121e-01, 1.12362470e-01, 1.14090819e-01, 1.15819168e-01,\n",
      "       1.17547518e-01, 1.19275867e-01, 1.21004216e-01, 1.22732565e-01,\n",
      "       1.24460915e-01, 1.26189264e-01, 1.27917613e-01, 1.29645962e-01,\n",
      "       1.31374312e-01, 1.33102661e-01, 1.34831010e-01, 1.36559360e-01,\n",
      "       1.38287709e-01, 1.40016058e-01, 1.41744407e-01, 1.43472757e-01,\n",
      "       1.45201106e-01, 1.46929455e-01, 1.48657804e-01, 1.50386154e-01,\n",
      "       1.52114503e-01, 1.53842852e-01, 1.55571201e-01, 1.57299551e-01,\n",
      "       1.59027900e-01, 1.60756249e-01, 1.62484598e-01, 1.64212948e-01,\n",
      "       1.65941297e-01, 1.67669646e-01, 1.69397995e-01, 1.71126345e-01,\n",
      "       1.72854694e-01])\n",
      "\n",
      "len(lat_bin_edges)=101\n"
     ]
    }
   ],
   "source": [
    "print(f\"{lat_bin_edges=}\\n\")\n",
    "print(f\"{len(lat_bin_edges)=}\")"
   ]
  },
  {
   "cell_type": "code",
   "execution_count": 19,
   "id": "8f002bf3-5406-4cc5-9f18-cbfc7d10de28",
   "metadata": {
    "tags": []
   },
   "outputs": [],
   "source": [
    "# Select all lower bin edges as the list of weighted choices to draw from.\n",
    "lat_choices = lat_bin_edges[:(len(lat_bin_edges) - 1)]"
   ]
  },
  {
   "cell_type": "code",
   "execution_count": 20,
   "id": "b2b60ba9-471f-4259-9439-7d1b4e14334a",
   "metadata": {
    "tags": []
   },
   "outputs": [
    {
     "name": "stdout",
     "output_type": "stream",
     "text": [
      "lat_choices=array([1.97680000e-05, 1.74811726e-03, 3.47646652e-03, 5.20481578e-03,\n",
      "       6.93316504e-03, 8.66151430e-03, 1.03898636e-02, 1.21182128e-02,\n",
      "       1.38465621e-02, 1.55749113e-02, 1.73032606e-02, 1.90316099e-02,\n",
      "       2.07599591e-02, 2.24883084e-02, 2.42166576e-02, 2.59450069e-02,\n",
      "       2.76733562e-02, 2.94017054e-02, 3.11300547e-02, 3.28584039e-02,\n",
      "       3.45867532e-02, 3.63151025e-02, 3.80434517e-02, 3.97718010e-02,\n",
      "       4.15001502e-02, 4.32284995e-02, 4.49568488e-02, 4.66851980e-02,\n",
      "       4.84135473e-02, 5.01418965e-02, 5.18702458e-02, 5.35985951e-02,\n",
      "       5.53269443e-02, 5.70552936e-02, 5.87836428e-02, 6.05119921e-02,\n",
      "       6.22403414e-02, 6.39686906e-02, 6.56970399e-02, 6.74253891e-02,\n",
      "       6.91537384e-02, 7.08820877e-02, 7.26104369e-02, 7.43387862e-02,\n",
      "       7.60671354e-02, 7.77954847e-02, 7.95238340e-02, 8.12521832e-02,\n",
      "       8.29805325e-02, 8.47088817e-02, 8.64372310e-02, 8.81655803e-02,\n",
      "       8.98939295e-02, 9.16222788e-02, 9.33506280e-02, 9.50789773e-02,\n",
      "       9.68073266e-02, 9.85356758e-02, 1.00264025e-01, 1.01992374e-01,\n",
      "       1.03720724e-01, 1.05449073e-01, 1.07177422e-01, 1.08905771e-01,\n",
      "       1.10634121e-01, 1.12362470e-01, 1.14090819e-01, 1.15819168e-01,\n",
      "       1.17547518e-01, 1.19275867e-01, 1.21004216e-01, 1.22732565e-01,\n",
      "       1.24460915e-01, 1.26189264e-01, 1.27917613e-01, 1.29645962e-01,\n",
      "       1.31374312e-01, 1.33102661e-01, 1.34831010e-01, 1.36559360e-01,\n",
      "       1.38287709e-01, 1.40016058e-01, 1.41744407e-01, 1.43472757e-01,\n",
      "       1.45201106e-01, 1.46929455e-01, 1.48657804e-01, 1.50386154e-01,\n",
      "       1.52114503e-01, 1.53842852e-01, 1.55571201e-01, 1.57299551e-01,\n",
      "       1.59027900e-01, 1.60756249e-01, 1.62484598e-01, 1.64212948e-01,\n",
      "       1.65941297e-01, 1.67669646e-01, 1.69397995e-01, 1.71126345e-01])\n",
      "\n",
      "len(lat_choices)=100\n"
     ]
    }
   ],
   "source": [
    "print(f\"{lat_choices=}\\n\")\n",
    "print(f\"{len(lat_choices)=}\")"
   ]
  },
  {
   "cell_type": "code",
   "execution_count": 21,
   "id": "6483aff5-4b76-49a4-a0b1-6aa85f01343c",
   "metadata": {
    "tags": []
   },
   "outputs": [],
   "source": [
    "# Create pairs of choice values with their respective weight.\n",
    "lat_choice_weight = np.column_stack((lat_choices, lat_weights))"
   ]
  },
  {
   "cell_type": "code",
   "execution_count": 22,
   "id": "4a1ff19f-22f5-4e09-992a-626d685af826",
   "metadata": {
    "tags": []
   },
   "outputs": [
    {
     "name": "stdout",
     "output_type": "stream",
     "text": [
      "lat_choice_weight=array([[1.97680000e-05, 1.52483680e+01],\n",
      "       [1.74811726e-03, 1.45917157e+01],\n",
      "       [3.47646652e-03, 2.01642510e+01],\n",
      "       [5.20481578e-03, 2.34345182e+01],\n",
      "       [6.93316504e-03, 2.39253614e+01],\n",
      "       [8.66151430e-03, 2.24585491e+01],\n",
      "       [1.03898636e-02, 2.09995335e+01],\n",
      "       [1.21182128e-02, 1.89476249e+01],\n",
      "       [1.38465621e-02, 1.70275666e+01],\n",
      "       [1.55749113e-02, 1.51568871e+01],\n",
      "       [1.73032606e-02, 1.38091039e+01],\n",
      "       [1.90316099e-02, 1.26098038e+01],\n",
      "       [2.07599591e-02, 1.10151262e+01],\n",
      "       [2.24883084e-02, 9.78931745e+00],\n",
      "       [2.42166576e-02, 7.95848760e+00],\n",
      "       [2.59450069e-02, 6.58384919e+00],\n",
      "       [2.76733562e-02, 5.70074710e+00],\n",
      "       [2.94017054e-02, 4.93234260e+00],\n",
      "       [3.11300547e-02, 4.34048921e+00],\n",
      "       [3.28584039e-02, 4.17641276e+00],\n",
      "       [3.45867532e-02, 4.27257161e+00],\n",
      "       [3.63151025e-02, 4.54008379e+00],\n",
      "       [3.80434517e-02, 5.14423859e+00],\n",
      "       [3.97718010e-02, 5.36462427e+00],\n",
      "       [4.15001502e-02, 5.68983177e+00],\n",
      "       [4.32284995e-02, 6.20181268e+00],\n",
      "       [4.49568488e-02, 6.75000475e+00],\n",
      "       [4.66851980e-02, 7.00538880e+00],\n",
      "       [4.84135473e-02, 6.81047221e+00],\n",
      "       [5.01418965e-02, 6.71206099e+00],\n",
      "       [5.18702458e-02, 6.51991655e+00],\n",
      "       [5.35985951e-02, 6.20908956e+00],\n",
      "       [5.53269443e-02, 5.78425803e+00],\n",
      "       [5.70552936e-02, 5.70126688e+00],\n",
      "       [5.87836428e-02, 5.46979260e+00],\n",
      "       [6.05119921e-02, 5.32026992e+00],\n",
      "       [6.22403414e-02, 5.07891987e+00],\n",
      "       [6.39686906e-02, 4.74089119e+00],\n",
      "       [6.56970399e-02, 4.99956716e+00],\n",
      "       [6.74253891e-02, 5.06488588e+00],\n",
      "       [6.91537384e-02, 5.41348337e+00],\n",
      "       [7.08820877e-02, 5.79742573e+00],\n",
      "       [7.26104369e-02, 6.16525499e+00],\n",
      "       [7.43387862e-02, 6.31547070e+00],\n",
      "       [7.60671354e-02, 6.35272143e+00],\n",
      "       [7.77954847e-02, 6.58021075e+00],\n",
      "       [7.95238340e-02, 6.63201524e+00],\n",
      "       [8.12521832e-02, 6.33002448e+00],\n",
      "       [8.29805325e-02, 5.97848158e+00],\n",
      "       [8.47088817e-02, 5.89081243e+00],\n",
      "       [8.64372310e-02, 5.60043003e+00],\n",
      "       [8.81655803e-02, 5.26534676e+00],\n",
      "       [8.98939295e-02, 4.94828244e+00],\n",
      "       [9.16222788e-02, 4.62775294e+00],\n",
      "       [9.33506280e-02, 4.45639960e+00],\n",
      "       [9.50789773e-02, 4.24935487e+00],\n",
      "       [9.68073266e-02, 4.06032910e+00],\n",
      "       [9.85356758e-02, 3.85345763e+00],\n",
      "       [1.00264025e-01, 3.71381072e+00],\n",
      "       [1.01992374e-01, 3.56636715e+00],\n",
      "       [1.03720724e-01, 3.46795593e+00],\n",
      "       [1.05449073e-01, 3.30561207e+00],\n",
      "       [1.07177422e-01, 3.18571671e+00],\n",
      "       [1.08905771e-01, 3.18744930e+00],\n",
      "       [1.10634121e-01, 3.14101584e+00],\n",
      "       [1.12362470e-01, 3.18086545e+00],\n",
      "       [1.14090819e-01, 3.15470332e+00],\n",
      "       [1.15819168e-01, 3.22989780e+00],\n",
      "       [1.17547518e-01, 3.29590956e+00],\n",
      "       [1.19275867e-01, 3.49931584e+00],\n",
      "       [1.21004216e-01, 3.48337600e+00],\n",
      "       [1.22732565e-01, 3.60101899e+00],\n",
      "       [1.24460915e-01, 3.56671367e+00],\n",
      "       [1.26189264e-01, 3.38323219e+00],\n",
      "       [1.27917613e-01, 3.26836134e+00],\n",
      "       [1.29645962e-01, 3.05837121e+00],\n",
      "       [1.31374312e-01, 2.80021502e+00],\n",
      "       [1.33102661e-01, 2.79588354e+00],\n",
      "       [1.34831010e-01, 2.61569398e+00],\n",
      "       [1.36559360e-01, 2.39288266e+00],\n",
      "       [1.38287709e-01, 2.23694939e+00],\n",
      "       [1.40016058e-01, 2.10943063e+00],\n",
      "       [1.41744407e-01, 1.94223551e+00],\n",
      "       [1.43472757e-01, 1.69152946e+00],\n",
      "       [1.45201106e-01, 1.61390935e+00],\n",
      "       [1.46929455e-01, 1.48950925e+00],\n",
      "       [1.48657804e-01, 1.38590025e+00],\n",
      "       [1.50386154e-01, 1.20692351e+00],\n",
      "       [1.52114503e-01, 1.11197748e+00],\n",
      "       [1.53842852e-01, 1.08529556e+00],\n",
      "       [1.55571201e-01, 1.00161137e+00],\n",
      "       [1.57299551e-01, 8.67855279e-01],\n",
      "       [1.59027900e-01, 8.13798412e-01],\n",
      "       [1.60756249e-01, 7.94393382e-01],\n",
      "       [1.62484598e-01, 7.00833420e-01],\n",
      "       [1.64212948e-01, 6.88185499e-01],\n",
      "       [1.65941297e-01, 6.34821669e-01],\n",
      "       [1.67669646e-01, 5.45766446e-01],\n",
      "       [1.69397995e-01, 5.26188158e-01],\n",
      "       [1.71126345e-01, 4.78022103e-01]])\n",
      "\n",
      "len(lat_choice_weight)=100\n"
     ]
    }
   ],
   "source": [
    "print(f\"{lat_choice_weight=}\\n\")\n",
    "print(f\"{len(lat_choice_weight)=}\")"
   ]
  },
  {
   "cell_type": "code",
   "execution_count": 23,
   "id": "cae6d10e-ba07-4b28-adba-e0cb82e5e872",
   "metadata": {
    "tags": []
   },
   "outputs": [],
   "source": [
    "# Write weighted choices to file in a format almost immediately usable in Rust.\n",
    "np.savetxt(\n",
    "    \"ripe-atlas_latencies_2023-01-20T1200_weighted-choices\",\n",
    "    lat_choice_weight,\n",
    "    fmt = (\"(%.12f\", \"%.16f),\"),\n",
    "    delimiter = \", \"\n",
    ")"
   ]
  },
  {
   "cell_type": "code",
   "execution_count": 26,
   "id": "91c4e462-7a23-46f3-9573-a0907c5e033a",
   "metadata": {},
   "outputs": [
    {
     "name": "stdout",
     "output_type": "stream",
     "text": [
      "0.0017283492600000\n",
      "[ True False  True False False  True False False False False  True  True\n",
      " False  True False  True  True False  True False  True False False  True\n",
      " False False False  True False False  True False False  True False False\n",
      "  True False False False False  True False False False False False  True\n",
      " False False False False False False  True False False False False False\n",
      "  True False False False False False False  True False False False False\n",
      " False  True False  True  True False  True False  True False  True  True\n",
      " False  True False  True False  True  True False  True False  True  True\n",
      " False  True False  True]\n",
      "\n",
      "0.0017283492500000\n",
      "[ True  True  True  True  True  True  True  True  True  True  True  True\n",
      "  True  True  True  True  True  True  True  True  True  True  True  True\n",
      "  True  True  True  True  True  True  True  True  True  True  True  True\n",
      "  True  True  True  True  True  True  True  True  True  True  True  True\n",
      "  True  True  True  True  True  True  True  True  True  True  True  True\n",
      "  True  True  True  True  True  True  True  True  True  True  True  True\n",
      "  True  True  True  True  True  True  True  True  True  True  True  True\n",
      "  True  True  True  True  True  True  True  True  True  True  True  True\n",
      "  True  True  True  True]\n",
      "\n",
      "Thus, use this adjusted \"safe\" width: 0.00172834925\n"
     ]
    }
   ],
   "source": [
    "# Print width of each bin so that we can sample uniformly at random from [0, width).\n",
    "diffs = np.diff(lat_bin_edges)\n",
    "width_raw = np.mean(diffs)\n",
    "\n",
    "print(f\"{width_raw:.16f}\")\n",
    "print(width_raw <= diffs)\n",
    "print()\n",
    "\n",
    "width_adj = 0.00172834925\n",
    "print(f\"{width_adj:.16f}\")\n",
    "print(width_adj <= diffs)\n",
    "print()\n",
    "\n",
    "print(f\"Thus, use this adjusted \\\"safe\\\" width: {width_adj}\")"
   ]
  }
 ],
 "metadata": {
  "kernelspec": {
   "display_name": "Python 3 (ipykernel)",
   "language": "python",
   "name": "python3"
  },
  "language_info": {
   "codemirror_mode": {
    "name": "ipython",
    "version": 3
   },
   "file_extension": ".py",
   "mimetype": "text/x-python",
   "name": "python",
   "nbconvert_exporter": "python",
   "pygments_lexer": "ipython3",
   "version": "3.11.5"
  }
 },
 "nbformat": 4,
 "nbformat_minor": 5
}
